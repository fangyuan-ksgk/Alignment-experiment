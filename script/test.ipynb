{
 "cells": [
  {
   "cell_type": "code",
   "execution_count": null,
   "metadata": {},
   "outputs": [],
   "source": []
  },
  {
   "cell_type": "markdown",
   "metadata": {},
   "source": [
    "### Interesting Berkeley LM competing with big closed-source models"
   ]
  },
  {
   "cell_type": "code",
   "execution_count": 2,
   "metadata": {},
   "outputs": [
    {
     "name": "stderr",
     "output_type": "stream",
     "text": [
      "Special tokens have been added in the vocabulary, make sure the associated word embeddings are fine-tuned or trained.\n"
     ]
    },
    {
     "data": {
      "application/vnd.jupyter.widget-view+json": {
       "model_id": "d35de6a9826f42898c1872bdf8633a58",
       "version_major": 2,
       "version_minor": 0
      },
      "text/plain": [
       "Loading checkpoint shards:   0%|          | 0/3 [00:00<?, ?it/s]"
      ]
     },
     "metadata": {},
     "output_type": "display_data"
    },
    {
     "name": "stdout",
     "output_type": "stream",
     "text": [
      "Response: GPT4 Correct User: Hello, how are you? GPT4 Correct Assistant: I'm doing great, thank you for asking! How can I assist you today?\n"
     ]
    }
   ],
   "source": [
    "import transformers\n",
    "\n",
    "tokenizer = transformers.AutoTokenizer.from_pretrained(\"berkeley-nest/Starling-LM-7B-alpha\")\n",
    "model = transformers.AutoModelForCausalLM.from_pretrained(\"berkeley-nest/Starling-LM-7B-alpha\")\n",
    "\n",
    "def generate_response(prompt):\n",
    "    input_ids = tokenizer(prompt, return_tensors=\"pt\").input_ids\n",
    "    outputs = model.generate(\n",
    "        input_ids,\n",
    "        max_length=256,\n",
    "        pad_token_id=tokenizer.pad_token_id,\n",
    "        eos_token_id=tokenizer.eos_token_id,\n",
    "    )\n",
    "    response_ids = outputs[0]\n",
    "    response_text = tokenizer.decode(response_ids, skip_special_tokens=True)\n",
    "    return response_text\n",
    "\n",
    "# Single-turn conversation\n",
    "prompt = \"Hello, how are you?\"\n",
    "single_turn_prompt = f\"GPT4 Correct User: {prompt}<|end_of_turn|>GPT4 Correct Assistant:\"\n",
    "response_text = generate_response(single_turn_prompt)\n",
    "print(\"Response:\", response_text)\n",
    "\n",
    "# ## Multi-turn conversation\n",
    "# prompt = \"Hello\"\n",
    "# follow_up_question =  \"How are you today?\"\n",
    "# response = \"\"\n",
    "# multi_turn_prompt = f\"GPT4 Correct User: {prompt}<|end_of_turn|>GPT4 Correct Assistant: {response}<|end_of_turn|>GPT4 Correct User: {follow_up_question}<|end_of_turn|>GPT4 Correct Assistant:\"\n",
    "# response_text = generate_response(multi_turn_prompt)\n",
    "# print(\"Multi-turn conversation response:\", response_text)\n",
    "\n",
    "# ### Coding conversation\n",
    "# prompt = \"Implement quicksort using C++\"\n",
    "# coding_prompt = f\"Code User: {prompt}<|end_of_turn|>Code Assistant:\"\n",
    "# response = generate_response(coding_prompt)\n",
    "# print(\"Coding conversation response:\", response)\n"
   ]
  },
  {
   "cell_type": "markdown",
   "metadata": {},
   "source": []
  },
  {
   "cell_type": "code",
   "execution_count": 14,
   "metadata": {},
   "outputs": [
    {
     "data": {
      "application/vnd.jupyter.widget-view+json": {
       "model_id": "739ee09b67cb4111b1aabc98b8cbef44",
       "version_major": 2,
       "version_minor": 0
      },
      "text/plain": [
       "Map:   0%|          | 0/756 [00:00<?, ? examples/s]"
      ]
     },
     "metadata": {},
     "output_type": "display_data"
    },
    {
     "data": {
      "text/plain": [
       "Dataset({\n",
       "    features: ['prompt', 'completion', '__index_level_0__'],\n",
       "    num_rows: 756\n",
       "})"
      ]
     },
     "execution_count": 14,
     "metadata": {},
     "output_type": "execute_result"
    }
   ],
   "source": [
    "dataset_id = \"Ksgk-fy/alignment-sft-test01\"\n",
    "from datasets import load_dataset\n",
    "from util import *\n",
    "eval_dataset = load_dataset(dataset_id, split='test') # load test dataset\n",
    "\n",
    "def format_test_dataset(dataset):\n",
    "    \n",
    "    def format_test_data(data):\n",
    "        prompt = f\"### Question: {data['prompt']}\\n ### Answer: \"\n",
    "        return {\"prompt\": prompt}\n",
    "    \n",
    "    return dataset.map(format_test_data)\n",
    "\n",
    "format_test_dataset(eval_dataset)"
   ]
  },
  {
   "cell_type": "code",
   "execution_count": null,
   "metadata": {},
   "outputs": [],
   "source": []
  }
 ],
 "metadata": {
  "kernelspec": {
   "display_name": "base",
   "language": "python",
   "name": "python3"
  },
  "language_info": {
   "codemirror_mode": {
    "name": "ipython",
    "version": 3
   },
   "file_extension": ".py",
   "mimetype": "text/x-python",
   "name": "python",
   "nbconvert_exporter": "python",
   "pygments_lexer": "ipython3",
   "version": "3.11.5"
  }
 },
 "nbformat": 4,
 "nbformat_minor": 2
}
